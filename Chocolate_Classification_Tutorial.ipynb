{
 "cells": [
  {
   "cell_type": "markdown",
   "metadata": {},
   "source": [
    "# Building a Chocolate Quality Classifier using Transfer Learning\n",
    "\n",
    "In this tutorial, we'll walk through building a deep learning system that can classify chocolate quality using transfer learning with ResNet50. We'll cover:\n",
    "\n",
    "1. Data preparation and loading\n",
    "2. Understanding transfer learning with ResNet\n",
    "3. Training process and visualization\n",
    "4. Model evaluation and interpretation\n",
    "\n",
    "Let's start by importing our dependencies!"
   ]
  },
  {
   "cell_type": "code",
   "execution_count": null,
   "metadata": {},
   "source": [
    "import torch\n",
    "from torchvision import transforms, models\n",
    "import matplotlib.pyplot as plt\n",
    "from dataset import PoopDataset, PoopClassifier\n",
    "import torch.nn as nn\n",
    "import numpy as np\n",
    "from PIL import Image\n",
    "\n",
    "print(f\"PyTorch version: {torch.__version__}\")\n",
    "device = torch.device(\"cuda\" if torch.cuda.is_available() else \"cpu\")\n",
    "print(f\"Using device: {device}\")"
   ]
  },
  {
   "cell_type": "markdown",
   "metadata": {},
   "source": [
    "## 1. Understanding the Dataset\n",
    "\n",
    "Our dataset consists of chocolate images organized into 7 quality classes. Let's examine our data structure and visualize some examples."
   ]
  },
  {
   "cell_type": "code",
   "execution_count": null,
   "metadata": {},
   "source": [
    "# Data transformations\n",
    "transform = transforms.Compose([\n",
    "    transforms.Resize((224, 224)),  # ResNet expects 224x224 images\n",
    "    transforms.ToTensor(),\n",
    "    transforms.Normalize(mean=[0.485, 0.456, 0.406],\n",
    "                        std=[0.229, 0.224, 0.225])  # ImageNet normalization\n",
    "])\n",
    "\n",
    "# Load dataset\n",
    "dataset = PoopDataset(\"data\", transform=transform)\n",
    "print(f\"Total number of images: {len(dataset)}\")\n",
    "print(f\"Classes: {dataset.classes}\")"
   ]
  },
  {
   "cell_type": "markdown",
   "metadata": {},
   "source": [
    "Let's visualize some example images from our dataset:"
   ]
  },
  {
   "cell_type": "code",
   "execution_count": null,
   "metadata": {},
   "source": [
    "def show_images(dataset, num_images=5):\n",
    "    fig, axes = plt.subplots(1, num_images, figsize=(15, 3))\n",
    "    for i in range(num_images):\n",
    "        img, label = dataset[i]\n",
    "        # Denormalize\n",
    "        img = img.permute(1, 2, 0).numpy()\n",
    "        img = img * np.array([0.229, 0.224, 0.225]) + np.array([0.485, 0.456, 0.406])\n",
    "        img = np.clip(img, 0, 1)\n",
    "        \n",
    "        axes[i].imshow(img)\n",
    "        axes[i].set_title(f'Class {dataset.classes[label]}')\n",
    "        axes[i].axis('off')\n",
    "    plt.tight_layout()\n",
    "    plt.show()\n",
    "\n",
    "show_images(dataset)"
   ]
  },
  {
   "cell_type": "markdown",
   "metadata": {},
   "source": [
    "## 2. Transfer Learning with ResNet50\n",
    "\n",
    "We're using a pre-trained ResNet50 model and adapting it for our chocolate classification task. Let's understand how this works:"
   ]
  },
  {
   "cell_type": "code",
   "execution_count": null,
   "metadata": {},
   "source": [
    "def visualize_model_architecture():\n",
    "    model = PoopClassifier(num_classes=7)\n",
    "    print(\"Model Architecture:\")\n",
    "    print(\"\\nBase Model (ResNet50):\")\n",
    "    print(\" - Pre-trained on ImageNet (1000 classes)\")\n",
    "    print(\" - Frozen layers (not updated during training)\")\n",
    "    print(\"\\nOur Modifications:\")\n",
    "    print(f\" - Final layer adapted for {len(dataset.classes)} classes\")\n",
    "    print(\" - Only training the final layer\")\n",
    "    \n",
    "    return model\n",
    "\n",
    "model = visualize_model_architecture()"
   ]
  },
  {
   "cell_type": "markdown",
   "metadata": {},
   "source": [
    "## 3. Understanding the Training Process\n",
    "\n",
    "Let's break down how the model learns:"
   ]
  },
  {
   "cell_type": "code",
   "execution_count": null,
   "metadata": {},
   "source": [
    "def explain_training_process():\n",
    "    print(\"Training Process Steps:\")\n",
    "    print(\"1. Forward Pass:\")\n",
    "    print(\"   - Image → ResNet50 → Feature Vector → Classifier → Prediction\")\n",
    "    print(\"\\n2. Loss Calculation:\")\n",
    "    print(\"   - Compare prediction with true label\")\n",
    "    print(\"   - Calculate how wrong the model was\")\n",
    "    print(\"\\n3. Backward Pass:\")\n",
    "    print(\"   - Calculate gradients\")\n",
    "    print(\"   - Update model weights\")\n",
    "    print(\"\\n4. Validation:\")\n",
    "    print(\"   - Check performance on unseen data\")\n",
    "    print(\"   - Save best performing model\")\n",
    "\n",
    "explain_training_process()"
   ]
  },
  {
   "cell_type": "markdown",
   "metadata": {},
   "source": [
    "## 4. Visualizing Feature Maps\n",
    "\n",
    "Let's see how the model \"sees\" chocolate images at different layers:"
   ]
  },
  {
   "cell_type": "code",
   "execution_count": null,
   "metadata": {},
   "source": [
    "def get_feature_maps(model, image):\n",
    "    # Get feature maps from different layers\n",
    "    features = {}\n",
    "    def hook_fn(module, input, output, name):\n",
    "        features[name] = output\n",
    "    \n",
    "    # Register hooks\n",
    "    hooks = [\n",
    "        model.base_model.conv1.register_forward_hook(\n",
    "            lambda m, i, o: hook_fn(m, i, o, 'conv1')\n",
    "        ),\n",
    "        model.base_model.layer1[0].conv1.register_forward_hook(\n",
    "            lambda m, i, o: hook_fn(m, i, o, 'layer1')\n",
    "        )\n",
    "    ]\n",
    "    \n",
    "    # Forward pass\n",
    "    with torch.no_grad():\n",
    "        model(image.unsqueeze(0))\n",
    "    \n",
    "    # Remove hooks\n",
    "    for hook in hooks:\n",
    "        hook.remove()\n",
    "    \n",
    "    return features\n",
    "\n",
    "# Get a sample image\n",
    "image, _ = dataset[0]\n",
    "features = get_feature_maps(model, image)\n",
    "\n",
    "# Visualize features\n",
    "plt.figure(figsize=(15, 5))\n",
    "for i, (name, feat) in enumerate(features.items()):\n",
    "    plt.subplot(1, len(features), i+1)\n",
    "    plt.imshow(feat[0, 0].cpu().numpy())\n",
    "    plt.title(f'{name} features')\n",
    "    plt.axis('off')\n",
    "plt.tight_layout()\n",
    "plt.show()"
   ]
  },
  {
   "cell_type": "markdown",
   "metadata": {},
   "source": [
    "## 5. Making Predictions\n",
    "\n",
    "Finally, let's see how the model makes predictions on new images:"
   ]
  },
  {
   "cell_type": "code",
   "execution_count": null,
   "metadata": {},
   "source": [
    "def predict_image(model, image_tensor):\n",
    "    model.eval()\n",
    "    with torch.no_grad():\n",
    "        outputs = model(image_tensor.unsqueeze(0))\n",
    "        _, predicted = torch.max(outputs, 1)\n",
    "        return predicted.item()\n",
    "\n",
    "# Get a test image\n",
    "test_image, true_label = dataset[10]\n",
    "predicted_class = predict_image(model, test_image)\n",
    "\n",
    "# Show results\n",
    "plt.imshow(test_image.permute(1, 2, 0).numpy())\n",
    "plt.title(f'Predicted: Class {predicted_class}, True: Class {true_label}')\n",
    "plt.axis('off')\n",
    "plt.show()"
   ]
  },
  {
   "cell_type": "markdown",
   "metadata": {},
   "source": [
    "## Conclusion\n",
    "\n",
    "We've built and explained a complete chocolate classification system using transfer learning. Key takeaways:\n",
    "\n",
    "1. Transfer learning lets us leverage pre-trained models\n",
    "2. ResNet50's deep architecture captures complex features\n",
    "3. We only needed to train the final classification layer\n",
    "4. The model learns hierarchical features, from simple edges to complex patterns\n",
    "\n",
    "This approach is particularly effective for specialized classification tasks with limited data."
   ]
  }
 ],
 "metadata": {
  "kernelspec": {
   "display_name": "Python 3",
   "language": "python",
   "name": "python3"
  },
  "language_info": {
   "codemirror_mode": {
    "name": "ipython",
    "version": 3
   },
   "file_extension": ".py",
   "mimetype": "text/x-python",
   "name": "python",
   "nbconvert_exporter": "python",
   "pygments_lexer": "ipython3",
   "version": "3.8.0"
  }
 },
 "nbformat": 4,
 "nbformat_minor": 4
}
